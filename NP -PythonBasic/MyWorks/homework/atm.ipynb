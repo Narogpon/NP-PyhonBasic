{
 "cells": [
  {
   "cell_type": "code",
   "execution_count": 1,
   "metadata": {},
   "outputs": [
    {
     "data": {
      "text/plain": [
       "' \\nชื่อ - สกุล - รหัสนักศึกษา \\n\\nณรงค์พล สวนหมาก 6412732103\\n'"
      ]
     },
     "execution_count": 1,
     "metadata": {},
     "output_type": "execute_result"
    }
   ],
   "source": [
    "\"\"\" \n",
    "ชื่อ - สกุล - รหัสนักศึกษา \n",
    "\n",
    "ณรงค์พล สวนหมาก 6412732103\n",
    "\"\"\""
   ]
  },
  {
   "cell_type": "code",
   "execution_count": 1,
   "metadata": {},
   "outputs": [
    {
     "name": "stdout",
     "output_type": "stream",
     "text": [
      "1\n",
      "1\n",
      "1\n"
     ]
    }
   ],
   "source": [
    "monny = int(input(\"ใส่จำนวนเงินที่ต้องการถอน : \"))\n",
    "cash1000 = monny//1000\n",
    "cash500 = (monny%1000)//500\n",
    "cash100 = (monny%500)//100\n",
    "print(cash1000)\n",
    "print(cash500)\n",
    "print(cash100)\n"
   ]
  }
 ],
 "metadata": {
  "interpreter": {
   "hash": "154c6c55d4b077c173498072b7bb30bbd27719c858d073fe9907ef9ce85e9875"
  },
  "kernelspec": {
   "display_name": "Python 3.9.7 64-bit ('base': conda)",
   "language": "python",
   "name": "python3"
  },
  "language_info": {
   "codemirror_mode": {
    "name": "ipython",
    "version": 3
   },
   "file_extension": ".py",
   "mimetype": "text/x-python",
   "name": "python",
   "nbconvert_exporter": "python",
   "pygments_lexer": "ipython3",
   "version": "3.9.10"
  },
  "orig_nbformat": 4
 },
 "nbformat": 4,
 "nbformat_minor": 2
}
